{
 "cells": [
  {
   "cell_type": "code",
   "execution_count": 13,
   "id": "ce02be6b-996d-4640-8a16-81824f860356",
   "metadata": {},
   "outputs": [],
   "source": [
    "#import modules\n",
    "import os\n",
    "import csv"
   ]
  },
  {
   "cell_type": "code",
   "execution_count": 14,
   "id": "26105170-55f6-4c3f-b28e-d99ec41fb3a1",
   "metadata": {},
   "outputs": [],
   "source": [
    "#set path for file\n",
    "budget_data_csv = os.path.join(\"../Resources/budget_data.csv\")"
   ]
  },
  {
   "cell_type": "code",
   "execution_count": 15,
   "id": "44ead400-f55b-429e-b633-bc8cc4bf904a",
   "metadata": {},
   "outputs": [],
   "source": [
    "#set the output of the text file\n",
    "text_path = \"output.txt\""
   ]
  },
  {
   "cell_type": "code",
   "execution_count": 16,
   "id": "ec847649-c710-4eea-8309-42df09345439",
   "metadata": {},
   "outputs": [],
   "source": [
    "#Set variables\n",
    "total_months = 0\n",
    "total_revenue = 0\n",
    "revenue = []\n",
    "previous_revenue = 0\n",
    "month_of_change = []\n",
    "revenue_change = 0\n",
    "greatest_decrease = [\"\", 9999999]\n",
    "greatest_increase = [\"\", 0]\n",
    "revenue_change_list = []\n",
    "revenue_average = 0"
   ]
  },
  {
   "cell_type": "code",
   "execution_count": 17,
   "id": "b02c93ac-621a-4957-9ab8-23efcc39e1e7",
   "metadata": {},
   "outputs": [],
   "source": [
    "#open the csv file\n",
    "with open(budget_data_csv) as csvfile:  \n",
    "    csvreader = csv.DictReader(csvfile)\n",
    "\n",
    "    #Loop through to find total months\n",
    "    for row in csvreader:\n",
    "\n",
    "        #Count the total of months\n",
    "        total_months += 1\n",
    "\n",
    "        #Calculate the total revenue over the entire period\n",
    "        total_revenue = total_revenue + int(row[\"Profit/Losses\"])\n",
    "\n",
    "        #Calculate the average change in revenue between months over the entire period\n",
    "        revenue_change = float(row[\"Profit/Losses\"])- previous_revenue\n",
    "        previous_revenue = float(row[\"Profit/Losses\"])\n",
    "        revenue_change_list = revenue_change_list + [revenue_change]\n",
    "        month_of_change = [month_of_change] + [row[\"Date\"]]\n",
    "       \n",
    "\n",
    "        #The greatest increase in revenue (date and amount) over the entire period\n",
    "        if revenue_change>greatest_increase[1]:\n",
    "            greatest_increase[1]= revenue_change\n",
    "            greatest_increase[0] = row['Date']\n",
    "\n",
    "        #The greatest decrease in revenue (date and amount) over the entire period\n",
    "        if revenue_change<greatest_decrease[1]:\n",
    "            greatest_decrease[1]= revenue_change\n",
    "            greatest_decrease[0] = row['Date']\n",
    "    revenue_average = sum(revenue_change_list)/len(revenue_change_list)"
   ]
  },
  {
   "cell_type": "code",
   "execution_count": 18,
   "id": "486dd8e2-2f46-4659-8229-8d4c6af81c65",
   "metadata": {},
   "outputs": [],
   "source": [
    "#write changes to csv\n",
    "with open(text_path, 'w') as file:\n",
    "    file.write(\"Financial Analysis\\n\")\n",
    "    file.write(\"---------------------\\n\")\n",
    "    file.write(\"Total Months: %d\\n\" % total_months)\n",
    "    file.write(\"Total Revenue: $%d\\n\" % total_revenue)\n",
    "    file.write(\"Average Revenue Change $%d\\n\" % revenue_average)\n",
    "    file.write(\"Greatest Increase in Revenue: %s ($%s)\\n\" % (greatest_increase[0], greatest_increase[1]))\n",
    "    file.write(\"Greatest Decrease in Revenue: %s ($%s)\\n\" % (greatest_decrease[0], greatest_decrease[1]))"
   ]
  },
  {
   "cell_type": "code",
   "execution_count": 22,
   "id": "6a804a88-8b7d-462a-a736-6e02ed5f55ee",
   "metadata": {},
   "outputs": [
    {
     "name": "stdout",
     "output_type": "stream",
     "text": [
      "\n",
      "\n",
      "Financial Analysis\n",
      "---------------------\n",
      "Total Months: 86\n",
      "Total Revenue: $38382578\n",
      "Average Revenue Change $7803\n",
      "Greatest Increase in Revenue: Feb-2012 ($1926159.0)\n",
      "Greatest Decrease in Revenue: Sep-2013 ($-2196167.0)\n",
      "\n",
      "\n"
     ]
    }
   ],
   "source": [
    "#print to terminal\n",
    "print(\"\\n\")\n",
    "print(\"Financial Analysis\")\n",
    "print(\"---------------------\")\n",
    "print(\"Total Months: %d\" % total_months)\n",
    "print(\"Total Revenue: $%d\" % total_revenue)\n",
    "print(\"Average Revenue Change $%d\" % revenue_average)\n",
    "print(\"Greatest Increase in Revenue: %s ($%s)\" % (greatest_increase[0], greatest_increase[1]))\n",
    "print(\"Greatest Decrease in Revenue: %s ($%s)\" % (greatest_decrease[0], greatest_decrease[1]))\n",
    "print(\"\\n\")"
   ]
  },
  {
   "cell_type": "code",
   "execution_count": null,
   "id": "b4e43b7b-670a-48bd-810e-b814ffa6a721",
   "metadata": {},
   "outputs": [],
   "source": []
  }
 ],
 "metadata": {
  "kernelspec": {
   "display_name": "Python 3 (ipykernel)",
   "language": "python",
   "name": "python3"
  },
  "language_info": {
   "codemirror_mode": {
    "name": "ipython",
    "version": 3
   },
   "file_extension": ".py",
   "mimetype": "text/x-python",
   "name": "python",
   "nbconvert_exporter": "python",
   "pygments_lexer": "ipython3",
   "version": "3.9.7"
  }
 },
 "nbformat": 4,
 "nbformat_minor": 5
}
