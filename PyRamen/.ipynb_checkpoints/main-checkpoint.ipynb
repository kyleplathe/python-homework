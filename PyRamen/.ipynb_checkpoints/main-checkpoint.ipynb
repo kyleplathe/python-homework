{
 "cells": [
  {
   "cell_type": "code",
   "execution_count": 14,
   "id": "ebc7a76f-fcaa-471a-89d3-c21ef9fbe942",
   "metadata": {},
   "outputs": [],
   "source": [
    "# -*- coding: UTF-8 -*-\n",
    "\"\"\"PyRamen Homework Starter.\"\"\"\n",
    "\n",
    "# @TODO: Import libraries\n",
    "import csv\n",
    "from pathlib import Path\n",
    "\n",
    "# @TODO: Set file paths for menu_data.csv and sales_data.csv\n",
    "menu_filepath = Path('../Resources/menu_data.csv')\n",
    "sales_filepath = Path('../Resources/sales_data.csv')\n",
    "\n"
   ]
  },
  {
   "cell_type": "code",
   "execution_count": 15,
   "id": "95ae49fa-8fb4-465a-8374-a542c7cf751b",
   "metadata": {},
   "outputs": [],
   "source": [
    "# @TODO: Initialize list objects to hold our menu and sales data\n",
    "menu = []\n",
    "sales = []"
   ]
  },
  {
   "cell_type": "code",
   "execution_count": 16,
   "id": "51865854-63a5-475a-b418-17dc77331f59",
   "metadata": {},
   "outputs": [],
   "source": [
    "# @TODO: Read in the menu data into the menu list\n",
    "with open(menu_filepath, 'r') as read_menu:\n",
    "    csv_reader = csv.reader(read_menu)\n",
    "    list_of_items = list(csv_reader)\n",
    "    menu.append(list_of_items)\n"
   ]
  },
  {
   "cell_type": "code",
   "execution_count": 17,
   "id": "88130831-e8da-44e5-af51-bfea3fad1d0a",
   "metadata": {},
   "outputs": [],
   "source": [
    "# @TODO: Read in the sales data into the sales list\n",
    "with open(sales_filepath, 'r') as read_sales:\n",
    "    csv_reader = csv.reader(read_sales)\n",
    "    list_of_sales = list(csv_reader)\n",
    "    sales.append(list_of_sales)\n",
    "    "
   ]
  },
  {
   "cell_type": "code",
   "execution_count": 18,
   "id": "c35a748b-237d-4f9e-8a4c-205a86a4e06c",
   "metadata": {},
   "outputs": [],
   "source": [
    "# @TODO: Initialize dict object to hold our key-value pairs of items and metrics\n",
    "report = {}\n",
    "\n"
   ]
  },
  {
   "cell_type": "code",
   "execution_count": 19,
   "id": "0cf4f453-6174-4cd1-abc5-0a4933a37214",
   "metadata": {},
   "outputs": [],
   "source": [
    "# Initialize a row counter variable\n",
    "row_count = 0"
   ]
  },
  {
   "cell_type": "code",
   "execution_count": 29,
   "id": "c7e2459c-0c7c-49c9-8a28-b9742e777960",
   "metadata": {},
   "outputs": [],
   "source": [
    "# @TODO: Loop over every row in the sales list object\n",
    "for sales_list in list_of_sales:\n",
    "    \n",
    "    \n",
    "    # Line_Item_ID,Date,Credit_Card_Number,Quantity,Menu_Item\n",
    "    # @TODO: Initialize sales data variables\n",
    "    Line_Item_ID = []\n",
    "    Date = []\n",
    "    Credit_Card_Number = []\n",
    "    Quantity = []\n",
    "    Menu_Item = []"
   ]
  },
  {
   "cell_type": "code",
   "execution_count": 26,
   "id": "4a389ed4-9422-4f82-bb76-b48d93934065",
   "metadata": {},
   "outputs": [],
   "source": []
  },
  {
   "cell_type": "code",
   "execution_count": null,
   "id": "5060847a-d47b-468f-b0c2-4daad36b42a4",
   "metadata": {},
   "outputs": [],
   "source": [
    "    # @TODO:\n",
    "    # If the item value not in the report, add it as a new entry with initialized metrics\n",
    "    # Naming convention allows the keys to be ordered in logical fashion, count, revenue, cost, profit"
   ]
  },
  {
   "cell_type": "code",
   "execution_count": null,
   "id": "365859b0-6805-417a-8840-94c8b5a2d3ad",
   "metadata": {},
   "outputs": [],
   "source": []
  },
  {
   "cell_type": "code",
   "execution_count": null,
   "id": "7cf3e40f-425c-48c6-a33a-e832144fbb9f",
   "metadata": {},
   "outputs": [],
   "source": []
  },
  {
   "cell_type": "code",
   "execution_count": null,
   "id": "947e7fe3-82f0-4b92-ab38-01d555e1acfd",
   "metadata": {},
   "outputs": [],
   "source": []
  },
  {
   "cell_type": "raw",
   "id": "a9733a4b-b836-4b11-882b-28a179626919",
   "metadata": {},
   "source": [
    "\n",
    "\n",
    "    # @TODO: For every row in our sales data, loop over the menu records to determine a match\n",
    "\n",
    "\n",
    "        # Item,Category,Description,Price,Cost\n",
    "        # @TODO: Initialize menu data variables\n",
    "\n",
    "\n",
    "\n",
    "\n",
    "        # @TODO: Calculate profit of each item in the menu data\n",
    "\n",
    "\n",
    "        # @TODO: If the item value in our sales data is equal to the any of the items in the menu, then begin tracking metrics for that item\n",
    "\n",
    "\n",
    "            # @TODO: Print out matching menu data\n",
    "\n",
    "\n",
    "\n",
    "\n",
    "\n",
    "\n",
    "            # @TODO: Cumulatively add up the metrics for each item key\n",
    "\n",
    "\n",
    "\n",
    "\n",
    "\n",
    "        # @TODO: Else, the sales item does not equal any fo the item in the menu data, therefore no match\n",
    "\n",
    "\n",
    "\n",
    "    # @TODO: Increment the row counter by 1\n",
    "\n",
    "\n",
    "# @TODO: Print total number of records in sales data\n",
    "\n",
    "\n",
    "\n",
    "\n",
    "# @TODO: Write out report to a text file (won't appear on the command line output)"
   ]
  },
  {
   "cell_type": "code",
   "execution_count": null,
   "id": "6d82ae99-10ce-45b5-bed6-accb7c0ae16f",
   "metadata": {},
   "outputs": [],
   "source": []
  },
  {
   "cell_type": "code",
   "execution_count": null,
   "id": "14f49747-68ac-4f0f-a262-ad6c9e86159a",
   "metadata": {},
   "outputs": [],
   "source": []
  }
 ],
 "metadata": {
  "kernelspec": {
   "display_name": "Python 3 (ipykernel)",
   "language": "python",
   "name": "python3"
  },
  "language_info": {
   "codemirror_mode": {
    "name": "ipython",
    "version": 3
   },
   "file_extension": ".py",
   "mimetype": "text/x-python",
   "name": "python",
   "nbconvert_exporter": "python",
   "pygments_lexer": "ipython3",
   "version": "3.9.7"
  }
 },
 "nbformat": 4,
 "nbformat_minor": 5
}
